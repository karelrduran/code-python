{
 "cells": [
  {
   "cell_type": "markdown",
   "id": "fdf0b5e7",
   "metadata": {},
   "source": [
    "### Invert a Python string"
   ]
  },
  {
   "cell_type": "code",
   "execution_count": 18,
   "id": "9c697be9",
   "metadata": {},
   "outputs": [
    {
     "name": "stdout",
     "output_type": "stream",
     "text": [
      "dlrow olleH\n"
     ]
    }
   ],
   "source": [
    "example_string = \"Hello world\"\n",
    "\n",
    "# Non-Pythonic code\n",
    "inverted_string = ''\n",
    "for i in range(len(example_string)-1,-1,-1):\n",
    "    inverted_string = inverted_string + example_string[i]\n",
    "\n",
    "\n",
    "print(inverted_string)"
   ]
  },
  {
   "cell_type": "code",
   "execution_count": 19,
   "id": "9b8db671",
   "metadata": {},
   "outputs": [
    {
     "data": {
      "text/plain": [
       "'dlrow olleH'"
      ]
     },
     "execution_count": 19,
     "metadata": {},
     "output_type": "execute_result"
    }
   ],
   "source": [
    "# Pythonic code using list slices\n",
    "example_string[::-1]"
   ]
  },
  {
   "cell_type": "code",
   "execution_count": null,
   "id": "1501b2eb",
   "metadata": {},
   "outputs": [],
   "source": []
  }
 ],
 "metadata": {
  "kernelspec": {
   "display_name": "Python 3",
   "language": "python",
   "name": "python3"
  },
  "language_info": {
   "codemirror_mode": {
    "name": "ipython",
    "version": 3
   },
   "file_extension": ".py",
   "mimetype": "text/x-python",
   "name": "python",
   "nbconvert_exporter": "python",
   "pygments_lexer": "ipython3",
   "version": "3.8.8"
  }
 },
 "nbformat": 4,
 "nbformat_minor": 5
}
