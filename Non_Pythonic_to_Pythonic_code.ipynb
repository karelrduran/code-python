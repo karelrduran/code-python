{
 "cells": [
  {
   "cell_type": "markdown",
   "id": "a9a5e2e9",
   "metadata": {},
   "source": [
    "### Convert a Non-Pythonic code into a Pythonic code using list comprehension"
   ]
  },
  {
   "cell_type": "code",
   "execution_count": 1,
   "id": "93bb8e82",
   "metadata": {},
   "outputs": [
    {
     "name": "stdout",
     "output_type": "stream",
     "text": [
      "[22, 42, 62, 82, 102]\n"
     ]
    }
   ],
   "source": [
    "# is_odd() function recive a number and return True if it's an odd number and False in other case\n",
    "def is_odd(x):\n",
    "    return x%2 == 1\n",
    "\n",
    "# double() function recive a number and return it multiply by 2\n",
    "def double(x):\n",
    "    return x*2\n",
    "\n",
    "# Example list\n",
    "list_of_numbers = [10, 11, 20, 21, 30, 31, 40, 41, 50, 51]\n",
    "\n",
    "\n",
    "# This is a Non-pythonic code\n",
    "# We want to convert it into a single line of python code\n",
    "result = []\n",
    "for i in range(len(list_of_numbers)):\n",
    "    v = list_of_numbers[i]\n",
    "    if is_odd(v):\n",
    "        result.append(double(v))\n",
    "        \n",
    "print(result)"
   ]
  },
  {
   "cell_type": "code",
   "execution_count": 2,
   "id": "41d47308",
   "metadata": {
    "scrolled": true
   },
   "outputs": [
    {
     "name": "stdout",
     "output_type": "stream",
     "text": [
      "[22, 42, 62, 82, 102]\n"
     ]
    }
   ],
   "source": [
    "# This is a Pythonic line of code, using a list comprehension and is_odd() and double() functions.\n",
    "result = [double(i) for i in list_of_numbers if is_odd(i)]\n",
    "print(result)"
   ]
  },
  {
   "cell_type": "code",
   "execution_count": 3,
   "id": "6ccfadea",
   "metadata": {},
   "outputs": [
    {
     "name": "stdout",
     "output_type": "stream",
     "text": [
      "[22, 42, 62, 82, 102]\n"
     ]
    }
   ],
   "source": [
    "# In this case without using the functions.\n",
    "result = [i*2 for i in list_of_numbers if i%2 == 1]\n",
    "print(result)"
   ]
  },
  {
   "cell_type": "code",
   "execution_count": null,
   "id": "983f8982",
   "metadata": {},
   "outputs": [],
   "source": []
  },
  {
   "cell_type": "code",
   "execution_count": null,
   "id": "2ecddcc4",
   "metadata": {},
   "outputs": [],
   "source": []
  }
 ],
 "metadata": {
  "kernelspec": {
   "display_name": "Python 3",
   "language": "python",
   "name": "python3"
  },
  "language_info": {
   "codemirror_mode": {
    "name": "ipython",
    "version": 3
   },
   "file_extension": ".py",
   "mimetype": "text/x-python",
   "name": "python",
   "nbconvert_exporter": "python",
   "pygments_lexer": "ipython3",
   "version": "3.8.8"
  }
 },
 "nbformat": 4,
 "nbformat_minor": 5
}
