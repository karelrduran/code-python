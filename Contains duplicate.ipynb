{
 "cells": [
  {
   "cell_type": "markdown",
   "id": "02c70739",
   "metadata": {},
   "source": [
    "### Different approaches to the same exercise with different computational complexities."
   ]
  },
  {
   "cell_type": "code",
   "execution_count": 61,
   "id": "11f037ae",
   "metadata": {},
   "outputs": [],
   "source": [
    "# O(n¬2)\n",
    "class Solution1:\n",
    "    def containsDuplicate(self, nums: [int]) -> bool:\n",
    "        for i in range(len(nums)):\n",
    "            for j in range(i+1, len(nums)):\n",
    "                if nums[i] == nums[j]:\n",
    "                    return True\n",
    "        return False"
   ]
  },
  {
   "cell_type": "code",
   "execution_count": 62,
   "id": "c88aad6c",
   "metadata": {},
   "outputs": [],
   "source": [
    "# O(nlogn)\n",
    "class Solution2:\n",
    "    def containsDuplicate(self, nums: [int]) -> bool:\n",
    "        sorted_nums = sorted(nums)\n",
    "        for i in range(len(sorted_nums)-1):\n",
    "            if sorted_nums[i] == sorted_nums[i+1]:\n",
    "                return True\n",
    "        return False"
   ]
  },
  {
   "cell_type": "code",
   "execution_count": 63,
   "id": "fd0de463",
   "metadata": {},
   "outputs": [],
   "source": [
    "# O(n)\n",
    "class Solution3:\n",
    "    def containsDuplicate(self, nums: [int]) -> bool:\n",
    "        h = set()\n",
    "        for val in nums:\n",
    "            if val in h:\n",
    "                return True\n",
    "            h.add(val)\n",
    "        return False"
   ]
  },
  {
   "cell_type": "code",
   "execution_count": 66,
   "id": "07c51a38",
   "metadata": {},
   "outputs": [],
   "source": [
    "# O(1)\n",
    "class Solution4:\n",
    "    def containsDuplicate(self, nums: [int]) -> bool:\n",
    "        return (len(set(nums)) < len(nums))"
   ]
  },
  {
   "cell_type": "code",
   "execution_count": 68,
   "id": "a73dc037",
   "metadata": {},
   "outputs": [
    {
     "data": {
      "text/plain": [
       "[True, True, True, True]"
      ]
     },
     "execution_count": 68,
     "metadata": {},
     "output_type": "execute_result"
    }
   ],
   "source": [
    "nums = [0,1,2,3,4,5,6,7,8,9,0]\n",
    "sol = [Solution1().containsDuplicate(nums), \n",
    "       Solution2().containsDuplicate(nums), \n",
    "       Solution3().containsDuplicate(nums),\n",
    "       Solution4().containsDuplicate(nums)]\n",
    "sol\n"
   ]
  },
  {
   "cell_type": "code",
   "execution_count": null,
   "id": "fe3c6ec2",
   "metadata": {},
   "outputs": [],
   "source": []
  },
  {
   "cell_type": "code",
   "execution_count": null,
   "id": "6f7b9a27",
   "metadata": {},
   "outputs": [],
   "source": []
  }
 ],
 "metadata": {
  "kernelspec": {
   "display_name": "Python 3",
   "language": "python",
   "name": "python3"
  },
  "language_info": {
   "codemirror_mode": {
    "name": "ipython",
    "version": 3
   },
   "file_extension": ".py",
   "mimetype": "text/x-python",
   "name": "python",
   "nbconvert_exporter": "python",
   "pygments_lexer": "ipython3",
   "version": "3.8.8"
  }
 },
 "nbformat": 4,
 "nbformat_minor": 5
}
